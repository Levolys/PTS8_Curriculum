{
  "nbformat": 4,
  "nbformat_minor": 0,
  "metadata": {
    "colab": {
      "name": "Bootstrap V2 (download BDD du Drive).ipynb",
      "version": "0.3.2",
      "views": {},
      "default_view": {},
      "provenance": [
        {
          "file_id": "1WYs2cyT2lmiPAvZw9vWJXCyqd9OoBJ3M",
          "timestamp": 1523477145239
        }
      ],
      "collapsed_sections": []
    },
    "kernelspec": {
      "name": "python2",
      "display_name": "Python 2"
    }
  },
  "cells": [
    {
      "metadata": {
        "id": "zIYI-TpNOclw",
        "colab_type": "code",
        "colab": {
          "autoexec": {
            "startup": false,
            "wait_interval": 0
          }
        }
      },
      "cell_type": "code",
      "source": [
        "#-*-coding:utf-8 -*-\n",
        "\n",
        "###################################### IMPORTATIONS, TOUT CA TOUT CA ######################################\n",
        "\n",
        "\n",
        "!pip install -U -q PyDrive\n",
        "\n",
        "import numpy as np\n",
        "import csv\n",
        "import os\n",
        "\n",
        "from pydrive.auth import GoogleAuth\n",
        "from pydrive.drive import GoogleDrive\n",
        "from google.colab import auth\n",
        "from oauth2client.client import GoogleCredentials\n",
        "from google.colab import files"
      ],
      "execution_count": 0,
      "outputs": []
    },
    {
      "metadata": {
        "id": "n89GKBLnOs2B",
        "colab_type": "code",
        "colab": {
          "autoexec": {
            "startup": false,
            "wait_interval": 0
          }
        }
      },
      "cell_type": "code",
      "source": [
        "# code trouvé sur Internet\n",
        "# création de fichier csv et sauvegarde\n",
        "\n",
        "def bootstrap(tailleBase = 5000) :\n",
        "  \n",
        "  ###################################### TELECHARGEMENT DE LA BASE GLOBALE ######################################\n",
        "  \n",
        "  \n",
        "  # Authentification et initialisation du client PyDrive\n",
        "  auth.authenticate_user()\n",
        "  gauth = GoogleAuth()\n",
        "  gauth.credentials = GoogleCredentials.get_application_default()\n",
        "  drive = GoogleDrive(gauth)\n",
        "\n",
        "  # Choix d'un répertoire distant pour charger les données\n",
        "  # Pour rester à la racine, mettre seulement \"~\" dans le expanduser\n",
        "  # Pour se placer dans un dossier toto situé à la racine, mettre '~/toto' dans le expanduser\n",
        "  # Pour se placer dans un dossier toto situé dans un dossier titi situé à la racine, mettre '~/titi/toto' dans le expanduser\n",
        "  # and so on...\n",
        "  local_download_path = os.path.expanduser('~')\n",
        "  try:\n",
        "    os.makedirs(local_download_path)\n",
        "  except: pass\n",
        "\n",
        "  # Ciblage du dossier drive contenant les données\n",
        "  folderID = \"1ggpBuvJLQir2dJuNYuoYgcCjPADgg82O\" # A MODIFIER\n",
        "  file_list = drive.ListFile({'q': \"'{}' in parents\".format(folderID)}).GetList()\n",
        "\n",
        "  for f in file_list :\n",
        "    print('title: %s, id: %s' % (f['title'], f['id']))\n",
        "    fname = os.path.join(local_download_path, f['title'])\n",
        "    #fname = f['title']\n",
        "    print('downloading to {}'.format(fname))\n",
        "    f_ = drive.CreateFile({'id': f['id']})\n",
        "    f_.GetContentFile(fname)\n",
        "    \n",
        "    \n",
        "  ###################################### CREATION DE LA BASE BOOTSTRAPEE ######################################    \n",
        "  \n",
        "  \n",
        "  with open('BDDBootstrap.csv', 'wb') as bddbootstrap : # Création du fichier destiné à contenir notre BDD bootstrappée\n",
        "    csvwriter = csv.writer(bddbootstrap, dialect = 'excel')\n",
        "    csvwriter.writerow([\"pixel\"+str(ind) for ind in range(1024)]+[\"shape\",\"color\",\"x_centre\",\"y_centre\",\"rotation\",\"size\",\"elongation\"])\n",
        "    \n",
        "    with open('bddBabyAIAll_train.csv', 'rb') as bddall : # BDD contenant tous les exemples de train\n",
        "      lines = bddall.readlines()\n",
        "      \n",
        "      listeIndices = list() # Création de la liste contenant tous les indices des lignes que nous sélectionnerons dans la BDD générale pour les mettre dans la BDD bootstrappée\n",
        "      \n",
        "      for i in range(tailleBase) :  # Peut-être tailleBase+1 ? A tester\n",
        "        listeIndices.append(np.random.randint(80000)) # 80000 = taille de la base globale que nous avons créée, contenant tous les exemples\n",
        "        line = lines[listeIndices[i]]\n",
        "        line_list = line.strip('\\#size:').split()\n",
        "        csvwriter.writerow(line_list)\n",
        "   \n",
        "  ############ ########################## TELECHARGEMENT DE LA BASE BOOTSTRAPEE ######################################      \n",
        "  \n",
        "    files.download('BDDBootstrap.csv') # Si on pouvait trouver comment la mettre directement sur le Drive, ce serait bien\n",
        "    "
      ],
      "execution_count": 0,
      "outputs": []
    },
    {
      "metadata": {
        "id": "4fEUISYb8DO1",
        "colab_type": "code",
        "colab": {
          "autoexec": {
            "startup": false,
            "wait_interval": 0
          },
          "base_uri": "https://localhost:8080/",
          "height": 119
        },
        "outputId": "60c95152-7c00-4c3a-d2a9-6ec87417d01d",
        "executionInfo": {
          "status": "ok",
          "timestamp": 1526558881577,
          "user_tz": -120,
          "elapsed": 79270,
          "user": {
            "displayName": "Valentin Boisard",
            "photoUrl": "//lh6.googleusercontent.com/-57ayCQkFuT4/AAAAAAAAAAI/AAAAAAAADKI/qLscMNFlqHw/s50-c-k-no/photo.jpg",
            "userId": "108992686972015471986"
          }
        }
      },
      "cell_type": "code",
      "source": [
        "bootstrap(5000) # C'est parti"
      ],
      "execution_count": 15,
      "outputs": [
        {
          "output_type": "stream",
          "text": [
            "title: bddBabyAIAll_train_complexes.csv, id: 1TYWZsNEu3cU35g9xqHQ9WR5ZK0-V9Vmx\n",
            "downloading to /content/bddBabyAIAll_train_complexes.csv\n",
            "title: bddBabyAIAll_train_simples.csv, id: 1PV_RqXfeTPTPzjRitOksbhA0v9cKE1y6\n",
            "downloading to /content/bddBabyAIAll_train_simples.csv\n",
            "title: bddBabyAIAll_train.csv, id: 1CEhK6Gn7FcJnZFsNfMeoWo57Rp6zisLs\n",
            "downloading to /content/bddBabyAIAll_train.csv\n"
          ],
          "name": "stdout"
        }
      ]
    }
  ]
}